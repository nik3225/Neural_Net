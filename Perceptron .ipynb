{
 "cells": [
  {
   "cell_type": "markdown",
   "id": "aging-office",
   "metadata": {},
   "source": [
    "## training a neural net with no hidden layers:"
   ]
  },
  {
   "cell_type": "code",
   "execution_count": 1,
   "id": "oriented-gnome",
   "metadata": {},
   "outputs": [],
   "source": [
    "import numpy as np"
   ]
  },
  {
   "cell_type": "code",
   "execution_count": 2,
   "id": "british-giant",
   "metadata": {},
   "outputs": [],
   "source": [
    "#lets define our normalising function(activation function) which would give a range of [0,1]\n",
    "def sigmoid(x):\n",
    "    return 1/ (1+np.exp(-x))"
   ]
  },
  {
   "cell_type": "code",
   "execution_count": 3,
   "id": "agricultural-penny",
   "metadata": {},
   "outputs": [],
   "source": [
    "def sigmoid_derivative(x):\n",
    "    return x *(1-x)"
   ]
  },
  {
   "cell_type": "code",
   "execution_count": 4,
   "id": "qualified-confidence",
   "metadata": {},
   "outputs": [],
   "source": [
    "#each row defined below is a training example:\n",
    "training_inputs = np.array([[0,0,1],\n",
    "                          [1,1,1],\n",
    "                          [1,0,1],\n",
    "                          [0,1,1]])"
   ]
  },
  {
   "cell_type": "code",
   "execution_count": 5,
   "id": "communist-backup",
   "metadata": {},
   "outputs": [
    {
     "data": {
      "text/plain": [
       "(4, 3)"
      ]
     },
     "execution_count": 5,
     "metadata": {},
     "output_type": "execute_result"
    }
   ],
   "source": [
    "training_inputs.shape"
   ]
  },
  {
   "cell_type": "code",
   "execution_count": 6,
   "id": "following-connection",
   "metadata": {},
   "outputs": [],
   "source": [
    "training_outputs = np.array([[0,1,1,0]])"
   ]
  },
  {
   "cell_type": "code",
   "execution_count": 7,
   "id": "rural-conference",
   "metadata": {},
   "outputs": [
    {
     "data": {
      "text/plain": [
       "(1, 4)"
      ]
     },
     "execution_count": 7,
     "metadata": {},
     "output_type": "execute_result"
    }
   ],
   "source": [
    "training_outputs.shape"
   ]
  },
  {
   "cell_type": "code",
   "execution_count": 8,
   "id": "cross-hollywood",
   "metadata": {},
   "outputs": [],
   "source": [
    "#but we dont need this shape we need it to be (4,1)\n",
    "#so lets get the transpose of the matrix\n",
    "\n",
    "training_outputs = np.array([[0,1,1,0]]).T"
   ]
  },
  {
   "cell_type": "code",
   "execution_count": 9,
   "id": "mysterious-columbus",
   "metadata": {},
   "outputs": [
    {
     "data": {
      "text/plain": [
       "(4, 1)"
      ]
     },
     "execution_count": 9,
     "metadata": {},
     "output_type": "execute_result"
    }
   ],
   "source": [
    "training_outputs.shape"
   ]
  },
  {
   "cell_type": "code",
   "execution_count": 10,
   "id": "becoming-plasma",
   "metadata": {},
   "outputs": [
    {
     "name": "stdout",
     "output_type": "stream",
     "text": [
      "Random starting synaptic weights: \n",
      "[[-0.16595599]\n",
      " [ 0.44064899]\n",
      " [-0.99977125]]\n"
     ]
    }
   ],
   "source": [
    "#lets initialize our weights, these are just random values that we allocate to the varibales:\n",
    "np.random.seed(1)    #this ensures that we get the same random weights.\n",
    "synaptic_weights = 2 * np.random.random((3,1)) -1    # the range here is (-1,1)\n",
    "print ('Random starting synaptic weights: ')\n",
    "print(synaptic_weights)"
   ]
  },
  {
   "cell_type": "markdown",
   "id": "technical-quantum",
   "metadata": {},
   "source": [
    "## The training process:\n",
    "1. take the inputs from the training example and put them in the formula to get the neuron's output.\n",
    "2. Calculate the error, which is the difference between the output we got and the actual output.\n",
    "3. depending on the severness of the error,adjust the weights accordingly.\n",
    "4. Repeat the process in 20,000 times. (epochs)"
   ]
  },
  {
   "cell_type": "code",
   "execution_count": 12,
   "id": "auburn-fever",
   "metadata": {},
   "outputs": [
    {
     "name": "stdout",
     "output_type": "stream",
     "text": [
      "Synaptic weights after training\n",
      "[[ 9.67309547]\n",
      " [-0.20784326]\n",
      " [-4.62968811]]\n",
      "outputs after training: \n",
      "[[0.009664  ]\n",
      " [0.99211997]\n",
      " [0.99358931]\n",
      " [0.00786466]]\n"
     ]
    }
   ],
   "source": [
    "for iteration in range(20000):\n",
    "    #define the inout layer\n",
    "    input_layer = training_inputs\n",
    "    \n",
    "    #define the output layer\n",
    "    outputs = sigmoid(np.dot(input_layer,synaptic_weights))\n",
    "    \n",
    "    #finding the error\n",
    "    error = training_outputs - outputs\n",
    "    \n",
    "    adjustments = error * sigmoid_derivative(outputs)\n",
    "    \n",
    "    synaptic_weights += np.dot(input_layer.T,adjustments)\n",
    "    \n",
    "print('Synaptic weights after training')\n",
    "print(synaptic_weights)\n",
    "    \n",
    "print('outputs after training: ')\n",
    "print(outputs)\n",
    "    "
   ]
  },
  {
   "cell_type": "code",
   "execution_count": null,
   "id": "centered-advocacy",
   "metadata": {},
   "outputs": [],
   "source": [
    "%pwd"
   ]
  },
  {
   "cell_type": "code",
   "execution_count": null,
   "id": "tired-satellite",
   "metadata": {},
   "outputs": [],
   "source": []
  }
 ],
 "metadata": {
  "kernelspec": {
   "display_name": "Python 3",
   "language": "python",
   "name": "python3"
  },
  "language_info": {
   "codemirror_mode": {
    "name": "ipython",
    "version": 3
   },
   "file_extension": ".py",
   "mimetype": "text/x-python",
   "name": "python",
   "nbconvert_exporter": "python",
   "pygments_lexer": "ipython3",
   "version": "3.7.9"
  }
 },
 "nbformat": 4,
 "nbformat_minor": 5
}
